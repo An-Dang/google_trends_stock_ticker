{
 "cells": [
  {
   "cell_type": "code",
   "execution_count": 1,
   "metadata": {
    "ExecuteTime": {
     "end_time": "2020-04-19T17:31:39.918900Z",
     "start_time": "2020-04-19T17:31:38.394430Z"
    }
   },
   "outputs": [],
   "source": [
    "import time\n",
    "import os\n",
    "import pandas as pd\n",
    "from pytrends.request import TrendReq\n",
    "from tqdm.notebook import tqdm"
   ]
  },
  {
   "cell_type": "code",
   "execution_count": 14,
   "metadata": {
    "ExecuteTime": {
     "end_time": "2020-04-19T18:00:39.843311Z",
     "start_time": "2020-04-19T18:00:39.836767Z"
    }
   },
   "outputs": [],
   "source": [
    "PATH_TICKER = '/Users/andang/Documents/workspace/private/python/google_trends/data/rst.xlsx'\n",
    "GEO = 'US'\n",
    "TIMEFRAME = 'all'"
   ]
  },
  {
   "cell_type": "code",
   "execution_count": 10,
   "metadata": {
    "ExecuteTime": {
     "end_time": "2020-04-19T18:00:26.492248Z",
     "start_time": "2020-04-19T18:00:26.485520Z"
    }
   },
   "outputs": [],
   "source": [
    "def get_ticker_list(PATH_TICKER):\n",
    "\n",
    "    ticker = pd.read_excel(PATH_TICKER)\n",
    "\n",
    "    return ticker.ticker.tolist()\n",
    "\n",
    "def chunks(lst, n):\n",
    "    #Yield successive n-sized chunks from lst.\n",
    "    for i in range(0, len(lst), n):\n",
    "        yield lst[i:i + n]"
   ]
  },
  {
   "cell_type": "code",
   "execution_count": 11,
   "metadata": {
    "ExecuteTime": {
     "end_time": "2020-04-19T18:00:27.080495Z",
     "start_time": "2020-04-19T18:00:26.813550Z"
    }
   },
   "outputs": [],
   "source": [
    "pytrend = TrendReq()"
   ]
  },
  {
   "cell_type": "code",
   "execution_count": 12,
   "metadata": {
    "ExecuteTime": {
     "end_time": "2020-04-19T18:00:27.857708Z",
     "start_time": "2020-04-19T18:00:27.838015Z"
    }
   },
   "outputs": [],
   "source": [
    "def get_trends(ticker_list, geo, timeframe):\n",
    "    limit = 50\n",
    "    df = pd.DataFrame({'date': [], 'variable': [], 'value': []})\n",
    "\n",
    "    for count, ticker in enumerate(tqdm(ticker_list)):\n",
    "        if count == limit:\n",
    "            time.sleep(90)\n",
    "            limit = limit+50\n",
    "            df.to_csv(PATH,\n",
    "                index=False)\n",
    "            continue\n",
    "        else:\n",
    "            pytrend.build_payload(\n",
    "                kw_list=[ticker], geo=geo, timeframe=timeframe)\n",
    "\n",
    "            trends_df=pytrend.interest_over_time().reset_index()\n",
    "            try:\n",
    "                melted_df=pd.melt(trends_df, id_vars=[\n",
    "                                    'date'], value_vars=[ticker])\n",
    "            except(KeyError):\n",
    "                # print(ticker)\n",
    "                os.write(1, ticker.encode())\n",
    "            df=df.append(melted_df, ignore_index=True)\n",
    "\n",
    "    return df"
   ]
  },
  {
   "cell_type": "code",
   "execution_count": 15,
   "metadata": {
    "ExecuteTime": {
     "end_time": "2020-04-19T18:25:18.975019Z",
     "start_time": "2020-04-19T18:00:43.683649Z"
    }
   },
   "outputs": [
    {
     "data": {
      "application/vnd.jupyter.widget-view+json": {
       "model_id": "03e2dce431cc40f9bc2b592329d57ef5",
       "version_major": 2,
       "version_minor": 0
      },
      "text/plain": [
       "HBox(children=(IntProgress(value=0, max=638), HTML(value='')))"
      ]
     },
     "metadata": {},
     "output_type": "display_data"
    },
    {
     "name": "stdout",
     "output_type": "stream",
     "text": [
      "\n"
     ]
    }
   ],
   "source": [
    "ticker_list = get_ticker_list(PATH_TICKER)\n",
    "trends = get_trends(ticker_list, GEO, TIMEFRAME)\n",
    "#chunk_list = list(chunks(ticker_list, 5))\n",
    "#trends = get_trends(chunk_list, GEO, TIMEFRAME)"
   ]
  },
  {
   "cell_type": "code",
   "execution_count": 16,
   "metadata": {
    "ExecuteTime": {
     "end_time": "2020-04-19T18:26:47.722613Z",
     "start_time": "2020-04-19T18:26:46.541238Z"
    }
   },
   "outputs": [],
   "source": [
    "trends.to_csv(\n",
    "    '/Users/andang/Documents/workspace/private/python/google_trends/data/search_volume/search_volume_rst.csv',\n",
    "    index=False)"
   ]
  },
  {
   "cell_type": "raw",
   "metadata": {
    "ExecuteTime": {
     "end_time": "2020-04-19T15:53:08.097668Z",
     "start_time": "2020-04-19T15:52:59.015Z"
    }
   },
   "source": [
    "pytrend.build_payload(\n",
    "                kw_list=['A'], geo=GEO, timeframe=TIMEFRAME)\n",
    "\n",
    "\n",
    "trends_df = pytrend.interest_over_time().reset_index()\n",
    "\n",
    "trends_df.head(10)"
   ]
  },
  {
   "cell_type": "code",
   "execution_count": null,
   "metadata": {},
   "outputs": [],
   "source": []
  }
 ],
 "metadata": {
  "kernelspec": {
   "display_name": "Python 3",
   "language": "python",
   "name": "python3"
  },
  "language_info": {
   "codemirror_mode": {
    "name": "ipython",
    "version": 3
   },
   "file_extension": ".py",
   "mimetype": "text/x-python",
   "name": "python",
   "nbconvert_exporter": "python",
   "pygments_lexer": "ipython3",
   "version": "3.7.6"
  },
  "toc": {
   "base_numbering": 1,
   "nav_menu": {},
   "number_sections": true,
   "sideBar": true,
   "skip_h1_title": false,
   "title_cell": "Table of Contents",
   "title_sidebar": "Contents",
   "toc_cell": false,
   "toc_position": {},
   "toc_section_display": true,
   "toc_window_display": false
  }
 },
 "nbformat": 4,
 "nbformat_minor": 4
}
